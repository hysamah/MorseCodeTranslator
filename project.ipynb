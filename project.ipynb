{
  "nbformat": 4,
  "nbformat_minor": 0,
  "metadata": {
    "colab": {
      "name": "Project.ipynb",
      "provenance": []
    },
    "kernelspec": {
      "name": "python3",
      "display_name": "Python 3"
    },
    "language_info": {
      "name": "python"
    }
  },
  "cells": [
    {
      "cell_type": "code",
      "metadata": {
        "id": "Nuwq2RrDnu_c"
      },
      "source": [
        "import wave\n",
        "import numpy as np\n",
        "from scipy.io import wavfile\n",
        "import matplotlib.pyplot as plot\n"
      ],
      "execution_count": 1,
      "outputs": []
    },
    {
      "cell_type": "code",
      "metadata": {
        "id": "FI_UZWtbn3c0"
      },
      "source": [
        "FREQ = 1000\n",
        "THRESHOLD = 128\n",
        "WPM = 5\n",
        "NOISE_FACTOR = 0.01\n",
        "AUDIO_FILENAME = 'sara.wav'\n",
        "letter_to_morse = {\n",
        "\t\"a\" : \".-\",\t\"b\" : \"-...\",\t\"c\" : \"-.-.\",\n",
        "\t\"d\" : \"-..\",\t\"e\" : \".\",\t\"f\" : \"..-.\",\n",
        "\t\"g\" : \"--.\",\t\"h\" : \"....\",\t\"i\" : \"..\",\n",
        "\t\"j\" : \".---\",\t\"k\" : \"-.-\",\t\"l\" : \".-..\",\n",
        "\t\"m\" : \"--\",\t\"n\" : \"-.\",\t\"o\" : \"---\",\n",
        "\t\"p\" : \".--.\",\t\"q\" : \"--.-\",\t\"r\" : \".-.\",\n",
        "\t\"s\" : \"...\",\t\"t\" : \"-\",\t\"u\" : \"..-\",\n",
        "\t\"v\" : \"...-\",\t\"w\" : \".--\",\t\"x\" : \"-..-\",\n",
        "\t\"y\" : \"-.--\",\t\"z\" : \"--..\",\t\"1\" : \".----\",\n",
        "\t\"2\" : \"..---\",\t\"3\" : \"...--\",\t\"4\" : \"....-\",\n",
        "\t\"5\" : \".....\", \t\"6\" : \"-....\",\t\"7\" : \"--...\",\n",
        "\t\"8\" : \"---..\",\t\"9\" : \"----.\",\t\"0\" : \"-----\",\t\n",
        "\t\" \" : \" \"}\n",
        "morse_to_letters = dict([(value, key) for key, value in letter_to_morse.items()])\n"
      ],
      "execution_count": 2,
      "outputs": []
    },
    {
      "cell_type": "code",
      "metadata": {
        "id": "RSzRaNgq0w0r"
      },
      "source": [
        "def digitize(snd_data):\n",
        "  sampled = np.asarray(snd_data).copy()\n",
        "  if sampled[0] == THRESHOLD:\n",
        "    sampled[0] = 0\n",
        "  else: sampled[0] = 1\n",
        "  for i in range(1, len(snd_data)-1):\n",
        "    if snd_data[i]>THRESHOLD + 4 or snd_data[i]<THRESHOLD-4:\n",
        "      sampled[i] = 1\n",
        "    elif snd_data[i-1]<THRESHOLD+4 and snd_data[i-1]>THRESHOLD-4 and snd_data[i+1]<THRESHOLD+4 and snd_data[i+1]>THRESHOLD-4:\n",
        "      sampled[i] = 0\n",
        "    else:\n",
        "      sampled[i] = 1\n",
        "  sampled[-1] = sampled[-2]\n",
        "  return np.asarray(sampled)\n",
        "\n",
        "def preprocess(AUDIO_FILENAME):\n",
        "  wav_file = wave.open(AUDIO_FILENAME)\n",
        "  fs, data = wavfile.read(AUDIO_FILENAME)\n",
        "  data = data\n",
        "  data = digitize(data)\n",
        "  length = data.shape[0] / fs\n",
        "  time = np.linspace(0., length, data.shape[0])\n",
        "  return time, data\n",
        "\n",
        "def tone_separator(AUDIO_FILENAME):\n",
        "  time, data = preprocess(AUDIO_FILENAME)\n",
        "  c1 = 0\n",
        "  c2 = 0\n",
        "  c3 = 0\n",
        "  c4 = 0\n",
        "  tone_sep = []\n",
        "  rising_edge = 0\n",
        "  falling_edge = 0\n",
        "  for i in range(1, len(time)):\n",
        "    if data[i] == 1:\n",
        "      if data[i-1] == 0:\n",
        "        c1 = time[i]\n",
        "        c4 = time[i]\n",
        "        rising_edge = 1\n",
        "    elif data[i] == 0:\n",
        "      if data[i-1] == 1:\n",
        "        c2 = time[i]\n",
        "        c3 = time[i]\n",
        "        falling_edge = 1\n",
        "    if c1 != 0 and c2 != 0:\n",
        "      tone_sep.append((c2-c1, falling_edge))\n",
        "      rising_edge = 0\n",
        "      falling_edge = 0\n",
        "      c1 = 0\n",
        "      c2 = 0\n",
        "    if c3 != 0 and c4 != 0 and c4>c3:\n",
        "      tone_sep.append((c4-c3, falling_edge))\n",
        "      c3 = 0\n",
        "      c4 = 0\n",
        "  tone_sep = filter_tones(tone_sep)\n",
        "  tone_sep = np.asarray(tone_sep)\n",
        "  tone_sep = np.round(tone_sep, 3)\n",
        "  return tone_sep\n",
        "\n",
        "def filter_tones(tone_list):\n",
        "  tone_list = [s for s in tone_list if s[0]>NOISE_FACTOR]\n",
        "  return tone_list\n",
        "\n",
        "def normalize_time(tone_list):  ##normaloze the values of the tones, 1 = '.', 2= '-', 3 = letter separation, 4= word separation\n",
        "  normalized = []\n",
        "  for x in tone_list:\n",
        "    if x[0] < 0.1:\n",
        "        normalized.append((1, x[1]))\n",
        "    elif x[0] > 1 and x[0] <4 :\n",
        "        normalized.append((3, x[1]))\n",
        "    elif x[0] > 4:\n",
        "       normalized.append((4, x[1]))\n",
        "    else:\n",
        "      normalized.append((2, x[1]))\n",
        "  normalized.append((3,0.0))\n",
        "  return normalized\n",
        "\n",
        "def encode(Tones): #convert the resultant audio into text morse (dots & dashes)\n",
        "  scentence=[]\n",
        "  letter = ''\n",
        "  for tone in Tones:\n",
        "      if tone[0] == 1 and tone[1] == 1:\n",
        "        letter+='.'\n",
        "      elif tone[0] == 2:\n",
        "        letter += '-'\n",
        "      elif tone[0] == 3:\n",
        "        scentence.append(letter)\n",
        "        letter=''\n",
        "      elif tone[0] == 4:\n",
        "        scentence.append(letter)\n",
        "        scentence.append(' ')\n",
        "        letter = ''\n",
        "  return scentence\n",
        "\n",
        "def decode(morse): #convert the text morse into english letters \n",
        "  scentence = ''\n",
        "  for e in morse:\n",
        "    scentence += morse_to_letters[e]\n",
        "  return scentence\n",
        "\n",
        "def Translate_Morse(AUDIO_FILENAME):\n",
        "  tones = tone_separator(AUDIO_FILENAME)\n",
        "  tones = normalize_time(tones)\n",
        "  Morse = encode(tones)\n",
        "  translation = decode(Morse)\n",
        "  return translation"
      ],
      "execution_count": 3,
      "outputs": []
    },
    {
      "cell_type": "code",
      "metadata": {
        "colab": {
          "base_uri": "https://localhost:8080/"
        },
        "id": "AwOzteSK5sgM",
        "outputId": "694e31d3-d1cb-4cea-91ed-fb58f3618a66"
      },
      "source": [
        "translated = Translate_Morse(AUDIO_FILENAME)\n",
        "print(translated)"
      ],
      "execution_count": 9,
      "outputs": [
        {
          "output_type": "stream",
          "text": [
            "hello this is sara\n"
          ],
          "name": "stdout"
        }
      ]
    },
    {
      "cell_type": "markdown",
      "metadata": {
        "id": "XUO0GEhD77zb"
      },
      "source": [
        "The above cell has the main code the runs all the functions and converts the audio file in 'AUDIO_FILENAME' into english\n",
        "the morse has to be generated via https://www.meridianoutpost.com/resources/etools/calculators/calculator-morse-code.php?\n",
        "with the following settings:  \n",
        "frequency = 1000\n",
        "WPM = 5\n",
        "further adjustments may be made to make the translation more generic "
      ]
    },
    {
      "cell_type": "code",
      "metadata": {
        "colab": {
          "base_uri": "https://localhost:8080/",
          "height": 460
        },
        "id": "WJ1lAd4LpBv6",
        "outputId": "aa9f63fd-e142-47e4-b102-7120d8746246"
      },
      "source": [
        "wav_file = wave.open(AUDIO_FILENAME)\n",
        "fs, data = wavfile.read(AUDIO_FILENAME)\n",
        "data = data\n",
        "data=digitize(data)\n",
        "print(data)\n",
        "length = data.shape[0] / fs\n",
        "time = np.linspace(0., length, data.shape[0])\n",
        "plot.figure(figsize=(20, 7))\n",
        "plot.plot(time, data, label=\"Audio Signal\")\n",
        "plot.legend()\n",
        "plot.xlabel(\"Time (sec)\")\n",
        "plot.ylabel(\"Amplitude\")\n",
        "plot.show()\n"
      ],
      "execution_count": 8,
      "outputs": [
        {
          "output_type": "stream",
          "text": [
            "[0 0 0 ... 0 0 0]\n"
          ],
          "name": "stdout"
        },
        {
          "output_type": "display_data",
          "data": {
            "image/png": "[encoded data removed]",
            "text/plain": [
              "<Figure size 1440x504 with 1 Axes>"
            ]
          },
          "metadata": {
            "tags": [],
            "needs_background": "light"
          }
        }
      ]
    }
  ]
}